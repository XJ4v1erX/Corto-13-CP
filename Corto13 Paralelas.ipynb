{
  "nbformat": 4,
  "nbformat_minor": 0,
  "metadata": {
    "colab": {
      "provenance": []
    },
    "kernelspec": {
      "name": "python3",
      "display_name": "Python 3"
    },
    "language_info": {
      "name": "python"
    }
  },
  "cells": [
    {
      "cell_type": "code",
      "source": [
        "import multiprocessing\n",
        "import os\n",
        "import time\n",
        "\n",
        "def suma_parcial(sublista):\n",
        "    print(f\"Proceso {os.getpid()} procesando {len(sublista)} elementos\")\n",
        "    return sum(sublista)\n",
        "\n",
        "if __name__ == '__main__':\n",
        "    start_time = time.time()\n",
        "    lista_numeros = list(range(1, 1000001))\n",
        "    num_procesos = 4\n",
        "\n",
        "    tamaño_sublista = len(lista_numeros) // num_procesos\n",
        "    sublistas = [\n",
        "        lista_numeros[i*tamaño_sublista : (i+1)*tamaño_sublista]\n",
        "        for i in range(num_procesos)\n",
        "    ]\n",
        "\n",
        "    with multiprocessing.Pool(num_procesos) as pool:\n",
        "        resultados_parciales = pool.map(suma_parcial, sublistas)\n",
        "\n",
        "    suma_total = sum(resultados_parciales)\n",
        "    end_time = time.time()\n",
        "\n",
        "    print(\"La suma total es:\", suma_total)\n",
        "    print(\"Tiempo de ejecución:\", end_time - start_time, \"segundos\")\n"
      ],
      "metadata": {
        "colab": {
          "base_uri": "https://localhost:8080/"
        },
        "id": "Vjh0q34SF6KK",
        "outputId": "6ca0a982-f57f-4e0f-97ac-3947aa9eb2cd"
      },
      "execution_count": 2,
      "outputs": [
        {
          "output_type": "stream",
          "name": "stdout",
          "text": [
            "Proceso 1080 procesando 250000 elementos\n",
            "Proceso 1081 procesando 250000 elementos\n",
            "Proceso 1082 procesando 250000 elementos\n",
            "Proceso 1083 procesando 250000 elementos\n",
            "La suma total es: 500000500000\n",
            "Tiempo de ejecución: 0.3894164562225342 segundos\n"
          ]
        }
      ]
    }
  ]
}